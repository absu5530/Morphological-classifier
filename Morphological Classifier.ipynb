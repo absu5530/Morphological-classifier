{
 "cells": [
  {
   "cell_type": "markdown",
   "metadata": {},
   "source": [
    "## Morphological Classication using an SVM"
   ]
  },
  {
   "cell_type": "markdown",
   "metadata": {},
   "source": [
    "**Loading files**"
   ]
  },
  {
   "cell_type": "code",
   "execution_count": 2,
   "metadata": {
    "collapsed": true
   },
   "outputs": [],
   "source": [
    "es_v = [line.strip().split() for line in open('es_v.txt',encoding = 'utf-8')]\n",
    "fi_na = [line.strip().split() for line in open('fi_na.txt',encoding = 'utf-8')]\n",
    "fi_v = [line.strip().split() for line in open('fi_v.txt',encoding = 'utf-8')]\n",
    "de_v = [line.strip().split() for line in open('de_v.txt',encoding = 'utf-8')]\n",
    "de_n = [line.strip().split() for line in open('de_n.txt',encoding = 'utf-8')]"
   ]
  },
  {
   "cell_type": "markdown",
   "metadata": {},
   "source": [
    "### **Importing modules**"
   ]
  },
  {
   "cell_type": "code",
   "execution_count": 8,
   "metadata": {
    "collapsed": true
   },
   "outputs": [],
   "source": [
    "from sklearn.feature_extraction import DictVectorizer\n",
    "from sklearn import svm\n",
    "from sklearn.model_selection import train_test_split\n",
    "from sklearn.metrics import accuracy_score, f1_score\n",
    "from hyphen import Hyphenator"
   ]
  },
  {
   "cell_type": "markdown",
   "metadata": {},
   "source": [
    "**Conjugation-Declension classifier function**"
   ]
  },
  {
   "cell_type": "code",
   "execution_count": 17,
   "metadata": {
    "collapsed": true
   },
   "outputs": [],
   "source": [
    "def conj_decl_classifier(inp,name):    \n",
    "    X_train, X_test = train_test_split(inp, test_size=0.1, random_state=1) #splitting data into train and test   \n",
    "    \n",
    "    featuresonly = [l[1] for l in X_train] #taking words to convert into feature representations\n",
    "    \n",
    "    language = ''\n",
    "    if name.split()[0] in ['Spanish']:\n",
    "        language = 'es_ES'\n",
    "    if name.split()[0] in ['German']:\n",
    "        language = 'de_DE'\n",
    "    if language != '':\n",
    "        h = Hyphenator(language) #for splitting words into syllables in featurizer function\n",
    "    \n",
    "    def featurizer(featuresonly): #for creating feature dictionary\n",
    "        features = []\n",
    "        for l in featuresonly:\n",
    "            feature_dictionary = {}\n",
    "            i = 1\n",
    "            while i != len(l): #adding prefixes and suffixes into feature dictionary\n",
    "                p = 'p#'\n",
    "                s = 's#'\n",
    "                p = p + l[:i]\n",
    "                s = s + l[i:]\n",
    "                i += 1\n",
    "                feature_dictionary[p] = 1\n",
    "                feature_dictionary[s] = 1\n",
    "            if language != '':\n",
    "                if len(h.syllables(l)) > 2: #making features out of vowel(s) in penultimate syllable\n",
    "                    m = 'm#'\n",
    "                    vowels = ['a','e','i','o','u']\n",
    "                    for letter in h.syllables(l)[-2]:\n",
    "                        if letter in vowels:\n",
    "                            m = m + letter \n",
    "                    feature_dictionary[m] = 1\n",
    "            features.append(feature_dictionary)\n",
    "        return features\n",
    "    \n",
    "    vectorizer = DictVectorizer(sparse = True)\n",
    "    x = vectorizer.fit_transform(featurizer(featuresonly)) #vectorizing feature dictionary\n",
    "    \n",
    "    def classizer(training): #to get classes   \n",
    "        classes = [l[0] for l in training]\n",
    "        return classes\n",
    "    \n",
    "    y = classizer(X_train)\n",
    "    \n",
    "    classifier = svm.LinearSVC()\n",
    "    classifier.fit(x,y)\n",
    "    \n",
    "    featuresonly_test = [l[1] for l in X_test] #features and classes of test set\n",
    "    classes_test = [l[0] for l in X_test]\n",
    "    \n",
    "    to_predict = vectorizer.transform(featurizer(featuresonly_test))\n",
    "    predicted_classes = classifier.predict(to_predict) #predicting classes for test set\n",
    "    \n",
    "    acc = accuracy_score(classes_test, predicted_classes)*100 #accuracy of predicted classes\n",
    "    f1 = f1_score(classes_test,predicted_classes, average='weighted') \n",
    "    print('The accuracy of this classifier on ' + name + ' is ' + str((\"%.2f\" % acc)) + '%.')\n",
    "    print('The f1_score of this classifier on ' + name + ' is ' + str((\"%.2f\" % f1)))"
   ]
  },
  {
   "cell_type": "code",
   "execution_count": 18,
   "metadata": {},
   "outputs": [
    {
     "name": "stdout",
     "output_type": "stream",
     "text": [
      "The accuracy of this classifier on Spanish verbs is 91.71%.\n",
      "The f1_score of this classifier on Spanish verbs is 0.90\n"
     ]
    },
    {
     "name": "stderr",
     "output_type": "stream",
     "text": [
      "C:\\Users\\Abhishek\\Anaconda3\\lib\\site-packages\\sklearn\\metrics\\classification.py:1135: UndefinedMetricWarning: F-score is ill-defined and being set to 0.0 in labels with no predicted samples.\n",
      "  'precision', 'predicted', average, warn_for)\n",
      "C:\\Users\\Abhishek\\Anaconda3\\lib\\site-packages\\sklearn\\metrics\\classification.py:1137: UndefinedMetricWarning: F-score is ill-defined and being set to 0.0 in labels with no true samples.\n",
      "  'recall', 'true', average, warn_for)\n"
     ]
    }
   ],
   "source": [
    "conj_decl_classifier(es_v,'Spanish verbs')"
   ]
  },
  {
   "cell_type": "code",
   "execution_count": 19,
   "metadata": {},
   "outputs": [
    {
     "name": "stdout",
     "output_type": "stream",
     "text": [
      "The accuracy of this classifier on Finnish nouns is 83.50%.\n",
      "The f1_score of this classifier on Finnish nouns is 0.83\n"
     ]
    },
    {
     "name": "stderr",
     "output_type": "stream",
     "text": [
      "C:\\Users\\Abhishek\\Anaconda3\\lib\\site-packages\\sklearn\\metrics\\classification.py:1135: UndefinedMetricWarning: F-score is ill-defined and being set to 0.0 in labels with no predicted samples.\n",
      "  'precision', 'predicted', average, warn_for)\n",
      "C:\\Users\\Abhishek\\Anaconda3\\lib\\site-packages\\sklearn\\metrics\\classification.py:1137: UndefinedMetricWarning: F-score is ill-defined and being set to 0.0 in labels with no true samples.\n",
      "  'recall', 'true', average, warn_for)\n"
     ]
    }
   ],
   "source": [
    "conj_decl_classifier(fi_na,'Finnish nouns')"
   ]
  },
  {
   "cell_type": "code",
   "execution_count": 20,
   "metadata": {},
   "outputs": [
    {
     "name": "stdout",
     "output_type": "stream",
     "text": [
      "The accuracy of this classifier on Finnish verbs is 94.47%.\n",
      "The f1_score of this classifier on Finnish verbs is 0.94\n"
     ]
    },
    {
     "name": "stderr",
     "output_type": "stream",
     "text": [
      "C:\\Users\\Abhishek\\Anaconda3\\lib\\site-packages\\sklearn\\metrics\\classification.py:1135: UndefinedMetricWarning: F-score is ill-defined and being set to 0.0 in labels with no predicted samples.\n",
      "  'precision', 'predicted', average, warn_for)\n",
      "C:\\Users\\Abhishek\\Anaconda3\\lib\\site-packages\\sklearn\\metrics\\classification.py:1137: UndefinedMetricWarning: F-score is ill-defined and being set to 0.0 in labels with no true samples.\n",
      "  'recall', 'true', average, warn_for)\n"
     ]
    }
   ],
   "source": [
    "conj_decl_classifier(fi_v,'Finnish verbs')"
   ]
  },
  {
   "cell_type": "code",
   "execution_count": 21,
   "metadata": {},
   "outputs": [
    {
     "name": "stdout",
     "output_type": "stream",
     "text": [
      "The accuracy of this classifier on German verbs is 83.06%.\n",
      "The f1_score of this classifier on German verbs is 0.79\n"
     ]
    },
    {
     "name": "stderr",
     "output_type": "stream",
     "text": [
      "C:\\Users\\Abhishek\\Anaconda3\\lib\\site-packages\\sklearn\\metrics\\classification.py:1135: UndefinedMetricWarning: F-score is ill-defined and being set to 0.0 in labels with no predicted samples.\n",
      "  'precision', 'predicted', average, warn_for)\n",
      "C:\\Users\\Abhishek\\Anaconda3\\lib\\site-packages\\sklearn\\metrics\\classification.py:1137: UndefinedMetricWarning: F-score is ill-defined and being set to 0.0 in labels with no true samples.\n",
      "  'recall', 'true', average, warn_for)\n"
     ]
    }
   ],
   "source": [
    "conj_decl_classifier(de_v,'German verbs')"
   ]
  },
  {
   "cell_type": "code",
   "execution_count": 22,
   "metadata": {},
   "outputs": [
    {
     "name": "stdout",
     "output_type": "stream",
     "text": [
      "The accuracy of this classifier on German nouns is 73.93%.\n",
      "The f1_score of this classifier on German nouns is 0.71\n"
     ]
    },
    {
     "name": "stderr",
     "output_type": "stream",
     "text": [
      "C:\\Users\\Abhishek\\Anaconda3\\lib\\site-packages\\sklearn\\metrics\\classification.py:1135: UndefinedMetricWarning: F-score is ill-defined and being set to 0.0 in labels with no predicted samples.\n",
      "  'precision', 'predicted', average, warn_for)\n"
     ]
    }
   ],
   "source": [
    "conj_decl_classifier(de_n,'German nouns')"
   ]
  }
 ],
 "metadata": {
  "kernelspec": {
   "display_name": "Python 3",
   "language": "python",
   "name": "python3"
  },
  "language_info": {
   "codemirror_mode": {
    "name": "ipython",
    "version": 3
   },
   "file_extension": ".py",
   "mimetype": "text/x-python",
   "name": "python",
   "nbconvert_exporter": "python",
   "pygments_lexer": "ipython3",
   "version": "3.6.1"
  }
 },
 "nbformat": 4,
 "nbformat_minor": 2
}
